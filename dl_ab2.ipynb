{
  "nbformat": 4,
  "nbformat_minor": 0,
  "metadata": {
    "colab": {
      "name": "dl_ab2.ipynb",
      "provenance": [],
      "collapsed_sections": [],
      "authorship_tag": "ABX9TyMNs+kyEheBDA9cMwr0eBzL",
      "include_colab_link": true
    },
    "kernelspec": {
      "name": "python3",
      "display_name": "Python 3"
    },
    "language_info": {
      "name": "python"
    }
  },
  "cells": [
    {
      "cell_type": "markdown",
      "metadata": {
        "id": "view-in-github",
        "colab_type": "text"
      },
      "source": [
        "<a href=\"https://colab.research.google.com/github/jagra26/Neural-Networks-and-Deep-Learning/blob/main/dl_ab2.ipynb\" target=\"_parent\"><img src=\"https://colab.research.google.com/assets/colab-badge.svg\" alt=\"Open In Colab\"/></a>"
      ]
    },
    {
      "cell_type": "code",
      "execution_count": 1,
      "metadata": {
        "colab": {
          "base_uri": "https://localhost:8080/"
        },
        "id": "2xIzfdh49OTq",
        "outputId": "44bfc3c5-7fe1-4e4c-fe2b-219810f38394"
      },
      "outputs": [
        {
          "output_type": "stream",
          "name": "stdout",
          "text": [
            "Cloning into 'fastText'...\n",
            "remote: Enumerating objects: 3930, done.\u001b[K\n",
            "remote: Counting objects: 100% (943/943), done.\u001b[K\n",
            "remote: Compressing objects: 100% (137/137), done.\u001b[K\n",
            "remote: Total 3930 (delta 854), reused 806 (delta 806), pack-reused 2987\u001b[K\n",
            "Receiving objects: 100% (3930/3930), 8.24 MiB | 14.18 MiB/s, done.\n",
            "Resolving deltas: 100% (2505/2505), done.\n",
            "/content/fastText\n",
            "c++ -pthread -std=c++11 -march=native -O3 -funroll-loops -DNDEBUG -c src/args.cc\n",
            "c++ -pthread -std=c++11 -march=native -O3 -funroll-loops -DNDEBUG -c src/autotune.cc\n",
            "c++ -pthread -std=c++11 -march=native -O3 -funroll-loops -DNDEBUG -c src/matrix.cc\n",
            "c++ -pthread -std=c++11 -march=native -O3 -funroll-loops -DNDEBUG -c src/dictionary.cc\n",
            "c++ -pthread -std=c++11 -march=native -O3 -funroll-loops -DNDEBUG -c src/loss.cc\n",
            "c++ -pthread -std=c++11 -march=native -O3 -funroll-loops -DNDEBUG -c src/productquantizer.cc\n",
            "c++ -pthread -std=c++11 -march=native -O3 -funroll-loops -DNDEBUG -c src/densematrix.cc\n",
            "c++ -pthread -std=c++11 -march=native -O3 -funroll-loops -DNDEBUG -c src/quantmatrix.cc\n",
            "c++ -pthread -std=c++11 -march=native -O3 -funroll-loops -DNDEBUG -c src/vector.cc\n",
            "c++ -pthread -std=c++11 -march=native -O3 -funroll-loops -DNDEBUG -c src/model.cc\n",
            "c++ -pthread -std=c++11 -march=native -O3 -funroll-loops -DNDEBUG -c src/utils.cc\n",
            "c++ -pthread -std=c++11 -march=native -O3 -funroll-loops -DNDEBUG -c src/meter.cc\n",
            "c++ -pthread -std=c++11 -march=native -O3 -funroll-loops -DNDEBUG -c src/fasttext.cc\n",
            "c++ -pthread -std=c++11 -march=native -O3 -funroll-loops -DNDEBUG args.o autotune.o matrix.o dictionary.o loss.o productquantizer.o densematrix.o quantmatrix.o vector.o model.o utils.o meter.o fasttext.o src/main.cc -o fasttext\n",
            "/content\n"
          ]
        }
      ],
      "source": [
        "!git clone https://github.com/facebookresearch/fastText.git\n",
        "%cd fastText\n",
        "!make\n",
        "!cp fasttext ../\n",
        "%cd .."
      ]
    },
    {
      "cell_type": "markdown",
      "source": [
        "Baixando o primeiro bilhao de bytes da wikipedia em inglês"
      ],
      "metadata": {
        "id": "menGVW2n_HqD"
      }
    },
    {
      "cell_type": "code",
      "source": [
        "%mkdir data\n",
        "!wget -c http://mattmahoney.net/dc/enwik9.zip -P data\n",
        "!unzip data/enwik9.zip -d data"
      ],
      "metadata": {
        "colab": {
          "base_uri": "https://localhost:8080/"
        },
        "id": "PbGTMd1X-d9A",
        "outputId": "cf77121d-42ad-4a60-e87d-e49ab170c4c1"
      },
      "execution_count": 4,
      "outputs": [
        {
          "output_type": "stream",
          "name": "stdout",
          "text": [
            "--2022-07-01 18:16:51--  http://mattmahoney.net/dc/enwik9.zip\n",
            "Resolving mattmahoney.net (mattmahoney.net)... 67.195.197.24\n",
            "Connecting to mattmahoney.net (mattmahoney.net)|67.195.197.24|:80... connected.\n",
            "HTTP request sent, awaiting response... 200 OK\n",
            "Length: 322592222 (308M) [application/zip]\n",
            "Saving to: ‘data/enwik9.zip’\n",
            "\n",
            "enwik9.zip          100%[===================>] 307.65M  2.30MB/s    in 2m 14s  \n",
            "\n",
            "2022-07-01 18:19:05 (2.30 MB/s) - ‘data/enwik9.zip’ saved [322592222/322592222]\n",
            "\n",
            "Archive:  data/enwik9.zip\n",
            "  inflating: data/enwik9             \n"
          ]
        }
      ]
    },
    {
      "cell_type": "markdown",
      "source": [
        "Baixando o script de pre processamento"
      ],
      "metadata": {
        "id": "6V1sL-XAFG5h"
      }
    },
    {
      "cell_type": "code",
      "source": [
        "!git clone https://github.com/hghodrati/wikifil.git"
      ],
      "metadata": {
        "colab": {
          "base_uri": "https://localhost:8080/"
        },
        "id": "VT87U5rFAXYj",
        "outputId": "f039d115-bf12-4f94-e776-81d27aa5866f"
      },
      "execution_count": 7,
      "outputs": [
        {
          "output_type": "stream",
          "name": "stdout",
          "text": [
            "Cloning into 'wikifil'...\n",
            "remote: Enumerating objects: 12, done.\u001b[K\n",
            "remote: Total 12 (delta 0), reused 0 (delta 0), pack-reused 12\u001b[K\n",
            "Unpacking objects:   8% (1/12)   \rUnpacking objects:  16% (2/12)   \rUnpacking objects:  25% (3/12)   \rUnpacking objects:  33% (4/12)   \rUnpacking objects:  41% (5/12)   \rUnpacking objects:  50% (6/12)   \rUnpacking objects:  58% (7/12)   \rUnpacking objects:  66% (8/12)   \rUnpacking objects:  75% (9/12)   \rUnpacking objects:  83% (10/12)   \rUnpacking objects:  91% (11/12)   \rUnpacking objects: 100% (12/12)   \rUnpacking objects: 100% (12/12), done.\n"
          ]
        }
      ]
    },
    {
      "cell_type": "markdown",
      "source": [
        "substituir linha 34 do wikifil.pl por:\n",
        "\n",
        "`s/\\{\\{[^}]*}}//g;         # remove {{icons}} and {tables}`"
      ],
      "metadata": {
        "id": "Dw9EjExfEZ5r"
      }
    },
    {
      "cell_type": "code",
      "source": [
        "!perl wikifil/wikifil.pl data/enwik9 > data/fil9"
      ],
      "metadata": {
        "id": "vAX1BJ_C-w6n"
      },
      "execution_count": 15,
      "outputs": []
    },
    {
      "cell_type": "code",
      "source": [
        "!head -c 80 data/fil9"
      ],
      "metadata": {
        "colab": {
          "base_uri": "https://localhost:8080/"
        },
        "id": "9Is6pjHFCUmp",
        "outputId": "b977944f-2937-48c0-b9b0-2c5ea68b7680"
      },
      "execution_count": 16,
      "outputs": [
        {
          "output_type": "stream",
          "name": "stdout",
          "text": [
            "\n",
            "\n",
            "\n",
            "\n",
            "\n",
            "\n",
            "\n",
            " anarchism originated as a term of abuse first used against early working"
          ]
        }
      ]
    },
    {
      "cell_type": "markdown",
      "source": [
        "Treinando o word vectors, skipgram"
      ],
      "metadata": {
        "id": "QMwTgreuFIOj"
      }
    },
    {
      "cell_type": "code",
      "source": [
        "%mkdir result\n",
        "!./fasttext skipgram -input data/fil9 -output result/fil9"
      ],
      "metadata": {
        "colab": {
          "base_uri": "https://localhost:8080/"
        },
        "id": "LrJeqkuJFOqh",
        "outputId": "c58f9967-f7ca-40c4-a5c4-c0f65ebac3a1"
      },
      "execution_count": 18,
      "outputs": [
        {
          "output_type": "stream",
          "name": "stdout",
          "text": [
            "Read 124M words\n",
            "Number of words:  218317\n",
            "Number of labels: 0\n",
            "Progress: 100.0% words/sec/thread:    7671 lr:  0.000000 avg.loss:  0.657673 ETA:   0h 0m 0s\n"
          ]
        }
      ]
    },
    {
      "cell_type": "markdown",
      "source": [
        "o skipgram aprende a predizer o resultado de uma palavra alvo baseado nas palavras vizinhas a ela. No exemplo *'Poets have been mysteriously silent on the subject of cheese'*, se a palavra alvo for *'silent'* o skip gram vai se basear em palavras vizinhas aleatórias como *'misteriously'* e *'subject'*."
      ],
      "metadata": {
        "id": "MvhMkEWhG3qu"
      }
    },
    {
      "cell_type": "markdown",
      "source": [
        "Exemplos de vetores de palavras"
      ],
      "metadata": {
        "id": "skRlIW4IxfOo"
      }
    },
    {
      "cell_type": "code",
      "source": [
        "!echo \"asparagus pidgey yellow\" | ./fasttext print-word-vectors result/fil9.bin"
      ],
      "metadata": {
        "colab": {
          "base_uri": "https://localhost:8080/"
        },
        "id": "Hw81f9u0KCNU",
        "outputId": "3170799e-3ad2-4e44-df78-11f76e840e36"
      },
      "execution_count": 19,
      "outputs": [
        {
          "output_type": "stream",
          "name": "stdout",
          "text": [
            "asparagus -0.30367 0.26406 0.23 0.057202 0.53665 0.1151 0.091743 -0.051376 0.68723 0.33891 -0.0081295 0.33634 -0.052745 0.23413 -0.015693 0.28709 -0.32509 -0.4986 -0.51203 -0.65957 -0.066529 0.27259 -0.61074 -0.030406 -0.36322 -0.48007 0.040588 0.25186 0.92696 0.16648 0.48264 -0.25894 0.034121 0.26516 -0.14506 -0.01628 -0.72427 0.053766 1.1789 0.027259 0.18289 0.16895 -0.58803 0.68757 0.36062 0.08782 0.31186 -0.33133 0.15537 0.15436 0.26125 -0.16858 0.37652 -1.041 -0.50993 -0.1468 0.046905 -0.067528 0.42881 -0.12418 0.58942 0.37551 -0.10118 -0.26021 -0.13475 -0.26566 0.385 0.49409 -0.14585 -0.18788 0.050933 0.41622 0.47925 -0.16607 -0.68771 -0.17851 0.037919 -0.20383 0.42508 0.35381 0.38038 0.24026 -0.23662 -0.1443 -0.070435 -0.13326 0.37783 -0.018376 -0.029583 -0.26472 -0.15817 -0.76478 0.52758 0.1057 -0.15117 -0.13564 -0.42447 0.37003 0.80217 0.08649 \n",
            "pidgey -0.34955 0.11262 0.51121 -0.13238 0.063926 -0.018478 -0.57957 -0.26345 0.050331 0.19731 -0.11641 -0.32955 -0.20473 0.07095 0.02193 0.25758 -0.21187 -0.051163 -0.095436 0.47931 -0.18624 -0.26162 -0.0149 -0.25948 0.027611 0.47297 0.40887 -0.12384 0.8516 -0.0091645 0.66419 -0.034023 0.45276 -0.23527 -0.0070821 0.25692 -0.75558 0.49793 0.62398 -0.20294 -0.53789 0.63701 -1.1844 0.59015 -0.27659 0.13199 0.35439 -0.26338 0.21381 0.28717 0.20993 -0.26742 -0.32319 -0.40567 -0.31234 0.11773 -0.087405 0.44863 0.063947 0.0036302 0.044023 -0.060824 -0.39877 -0.082945 0.1794 0.25487 -0.021 0.15754 -0.033104 -0.0099923 0.15707 -0.36735 -0.1188 -0.32592 -0.6877 -0.018062 0.58798 0.026867 0.38637 0.18266 -0.21072 0.66642 0.39264 -0.25048 0.038913 -0.2743 -0.20937 0.092248 -0.33189 -0.37791 -0.17106 -0.29016 0.07517 -0.42592 -0.32764 -0.22862 0.38629 0.73206 0.79278 0.40842 \n",
            "yellow -0.55579 0.044231 0.81102 0.094219 0.16995 0.20771 0.026525 -0.075451 0.22149 0.86233 -0.046664 0.33366 -0.59482 -0.27908 0.069841 -0.04158 -0.08305 0.022167 0.13196 0.085261 -0.70472 0.52445 -0.36491 -0.45162 0.058066 -0.12691 -0.19703 0.093671 0.23908 -0.21153 0.94944 -0.34319 0.15315 -0.39977 0.3083 -0.09891 -0.70058 0.071422 0.073219 -0.78264 -0.13804 0.0049084 -0.82026 0.28284 -0.30544 0.23596 -0.31125 0.047021 -0.061573 0.61876 -0.62176 -0.088008 -0.063009 -0.51703 -0.13768 -0.20495 -0.094054 0.17547 0.44324 0.26615 0.49424 0.40615 0.16545 0.0085892 0.25291 0.12961 0.29049 0.25858 0.18125 -0.11465 0.35275 0.3242 0.35402 -0.086514 -0.18236 0.12369 0.10814 0.060435 0.33067 -0.12691 -0.15151 0.36655 -0.064379 -0.36826 -0.24665 0.12607 0.51691 -0.013455 -0.22173 -0.49005 -0.13862 -0.66618 -0.22814 -0.43462 0.17955 0.12172 0.42722 0.5012 0.09365 0.56305 \n"
          ]
        }
      ]
    },
    {
      "cell_type": "code",
      "source": [
        "!echo \"enviroment\" | ./fasttext print-word-vectors result/fil9.bin"
      ],
      "metadata": {
        "colab": {
          "base_uri": "https://localhost:8080/"
        },
        "id": "qaE8DVvcKMsb",
        "outputId": "1614a7c9-907f-4909-90aa-aeadb4f0237e"
      },
      "execution_count": 20,
      "outputs": [
        {
          "output_type": "stream",
          "name": "stdout",
          "text": [
            "enviroment -0.30621 0.5213 0.038165 0.12067 0.62051 -0.030322 -0.29884 0.24086 0.23366 0.19359 -0.044317 0.18888 -0.33459 -0.033258 0.21938 0.070066 -0.069025 0.11019 -0.14674 0.27029 -0.37402 0.084104 -0.16679 -0.32273 -0.36358 0.30928 0.30346 0.16971 -0.1278 0.3369 0.047924 0.19688 -0.054584 0.065951 0.098168 -0.11475 -0.32538 -0.17483 0.13274 -0.035158 -0.039539 -0.1044 0.0775 -0.083904 0.1747 0.093154 -0.084678 0.022436 -0.34375 0.36002 0.099651 0.0045685 -0.28568 -0.57228 -0.066888 0.089954 -0.2488 0.04786 -0.058611 -0.082687 0.20928 -0.16728 -0.27266 -0.35596 -0.35994 0.3551 -0.19771 0.00023168 0.16471 0.25503 -0.33133 -0.0087379 0.23764 -0.20045 -0.12219 0.32825 0.45263 0.033206 -0.18765 0.17562 -0.38675 -0.021225 -0.00702 0.039466 -0.38416 0.34936 0.016929 0.047773 -0.70761 -0.03313 0.19804 -0.19734 0.44018 -0.13259 0.36467 -0.31441 -0.27542 0.38064 0.092352 0.0018117 \n"
          ]
        }
      ]
    },
    {
      "cell_type": "markdown",
      "source": [
        "Palavras próximas a aspargus, pidgey, enviroment, gearshift"
      ],
      "metadata": {
        "id": "dOf-37dy18Kh"
      }
    },
    {
      "cell_type": "code",
      "source": [
        "!./fasttext nn result/fil9.bin"
      ],
      "metadata": {
        "colab": {
          "base_uri": "https://localhost:8080/"
        },
        "id": "26s6keL1KSys",
        "outputId": "41c83c32-1521-4d40-87ec-ba4bc4ebefc6"
      },
      "execution_count": 30,
      "outputs": [
        {
          "output_type": "stream",
          "name": "stdout",
          "text": [
            "Query word? aspargus\n",
            "aspar 0.831849\n",
            "melicoccus 0.775739\n",
            "lycopersicon 0.764466\n",
            "aspergillus 0.764417\n",
            "citrullus 0.762741\n",
            "regillus 0.756876\n",
            "aspalathin 0.751381\n",
            "myrtillus 0.750808\n",
            "aspasii 0.746249\n",
            "citriodora 0.744525\n",
            "Query word? pidgey\n",
            "pidgeot 0.909066\n",
            "pidgeotto 0.892411\n",
            "pidge 0.882184\n",
            "pok 0.77627\n",
            "pidgeon 0.766781\n",
            "pokemon 0.766538\n",
            "pikachu 0.75894\n",
            "beedrill 0.755427\n",
            "charizard 0.75523\n",
            "squirtle 0.753279\n",
            "Query word? enviroment\n",
            "enviromental 0.896804\n",
            "environ 0.861393\n",
            "enviro 0.842832\n",
            "enviromission 0.77912\n",
            "environs 0.773682\n",
            "environnement 0.768985\n",
            "environment 0.700226\n",
            "ecotourism 0.678734\n",
            "realclimate 0.674856\n",
            "ecotone 0.668143\n",
            "Query word? gearshift\n",
            "gearing 0.792701\n",
            "gears 0.771627\n",
            "flywheel 0.76274\n",
            "flywheels 0.760293\n",
            "cogwheels 0.741607\n",
            "daisywheel 0.734681\n",
            "handbrake 0.731578\n",
            "stationary 0.72707\n",
            "wheelsets 0.723516\n",
            "wheels 0.721084\n",
            "Query word? ^C\n"
          ]
        }
      ]
    }
  ]
}